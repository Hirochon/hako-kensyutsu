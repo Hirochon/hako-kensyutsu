{
 "cells": [
  {
   "cell_type": "code",
   "execution_count": 2,
   "metadata": {
    "scrolled": true
   },
   "outputs": [
    {
     "name": "stdout",
     "output_type": "stream",
     "text": [
      "[[[ 97  56 266  54]]\n",
      "\n",
      " [[ 74 260 360 257]]\n",
      "\n",
      " [[322  57 372 227]]\n",
      "\n",
      " [[ 53 237  94  61]]]\n"
     ]
    },
    {
     "data": {
      "image/png": "[encoded data removed]",
      "text/plain": [
       "<Figure size 432x288 with 2 Axes>"
      ]
     },
     "metadata": {},
     "output_type": "display_data"
    }
   ],
   "source": [
    "import cv2\n",
    "import numpy as np\n",
    "from matplotlib import pyplot as plt\n",
    "from matplotlib.patches import Polygon\n",
    "\n",
    "#画像読み込み\n",
    "img = cv2.imread(\"Path\")\n",
    "kuhaku = cv2.imread(\"kuhaku.jpg\")\n",
    "kuhaku_sm = cv2.imread(\"kuhaku_sm.jpg\")\n",
    "\n",
    "#色で２値化\n",
    "nichika = cv2.inRange(img,(40,70,80),(135,165,185))\n",
    "\n",
    "\n",
    "\n",
    "#フィルター\n",
    "kernel = np.ones((150,150),np.float32)/22500\n",
    "boya1 = cv2.filter2D(nichika,-1,kernel)\n",
    "# boya2 = cv2.blur(boya1,(100,100))\n",
    "\n",
    "#フィルターをかけまくる事により、２値化でロゴも消す。\n",
    "th, nichika2 = cv2.threshold(boya1, 10, 255, cv2.THRESH_BINARY)\n",
    "\n",
    "#枠線を出力\n",
    "label, contours, hierarchy = cv2.findContours(nichika2, cv2.RETR_LIST, cv2.CHAIN_APPROX_SIMPLE)\n",
    "kekka = cv2.drawContours(kuhaku, contours, -1, (0,0,0), 3)\n",
    "\n",
    "#縮小からの直線検出を用いる。\n",
    "gray = cv2.cvtColor(kekka, cv2.COLOR_BGR2GRAY)\n",
    "gray2 = cv2.bitwise_not(gray)\n",
    "height = gray2.shape[0]\n",
    "width = gray2.shape[1]\n",
    "gray3 = cv2.resize(gray2,(int(width*0.1),int(height*0.1)))\n",
    "\n",
    "\n",
    "lines = cv2.HoughLinesP(gray3, rho=1, theta=np.pi/560, threshold=70, minLineLength=160, maxLineGap=300)\n",
    "\n",
    "print(lines)\n",
    "\n",
    "for line in lines:\n",
    "    x1, y1, x2, y2 = line[0]\n",
    "\n",
    "    # 赤線を引く\n",
    "    keka_lines = cv2.line(kuhaku_sm, (x1,y1), (x2,y2), (0,0,255), 3)\n",
    "    cv2.imwrite(\"wakusen.jpg\", keka_lines)\n",
    "\n",
    "plt.subplot(121), plt.imshow(gray, cmap = \"gray\")\n",
    "plt.title(\"gray\"), plt.xticks([]), plt.yticks([])\n",
    "plt.subplot(122), plt.imshow(keka_lines, cmap=\"gray\")\n",
    "plt.title(\"kekka\"), plt.xticks([]), plt.yticks([])\n",
    "\n",
    "cv2.imwrite(\"nichika.jpg\", nichika)\n",
    "cv2.imwrite(\"boya1.jpg\", boya1)\n",
    "cv2.imwrite(\"gray.jpg\", gray)\n",
    "cv2.imwrite(\"nichika2.jpg\", nichika2)\n",
    "cv2.imwrite(\"kekka.jpg\", keka_lines)\n",
    "\n",
    "plt.show()"
   ]
  },
  {
   "cell_type": "code",
   "execution_count": null,
   "metadata": {},
   "outputs": [],
   "source": []
  },
  {
   "cell_type": "code",
   "execution_count": null,
   "metadata": {},
   "outputs": [],
   "source": []
  }
 ],
 "metadata": {
  "kernelspec": {
   "display_name": "Python 3",
   "language": "python",
   "name": "python3"
  },
  "language_info": {
   "codemirror_mode": {
    "name": "ipython",
    "version": 3
   },
   "file_extension": ".py",
   "mimetype": "text/x-python",
   "name": "python",
   "nbconvert_exporter": "python",
   "pygments_lexer": "ipython3",
   "version": "3.7.3"
  }
 },
 "nbformat": 4,
 "nbformat_minor": 2
}
